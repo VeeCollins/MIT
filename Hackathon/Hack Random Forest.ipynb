{
 "cells": [
  {
   "cell_type": "code",
   "execution_count": 104,
   "id": "bd06f98a",
   "metadata": {},
   "outputs": [],
   "source": [
    "import pandas as pd\n",
    "import numpy as np\n",
    "import matplotlib as plt\n",
    "import seaborn as sea\n",
    "import sklearn\n",
    "import sklearn.ensemble as ensemble\n",
    "import sklearn.tree as tree\n",
    "import sklearn.metrics as metrics\n",
    "import sklearn.linear_model as linear\n",
    "from sklearn import preprocessing\n",
    "from sklearn.model_selection import GridSearchCV\n",
    "from sklearn.feature_selection import RFE"
   ]
  },
  {
   "cell_type": "markdown",
   "id": "6b952063",
   "metadata": {},
   "source": [
    "# Hackathon Shinkansen Travel Experience"
   ]
  },
  {
   "cell_type": "code",
   "execution_count": 58,
   "id": "6b57d7a1",
   "metadata": {},
   "outputs": [],
   "source": [
    "train_s = pd.read_csv(\"Surveydata_train.csv\")\n",
    "train_t = pd.read_csv(\"Traveldata_train.csv\")\n",
    "test_s = pd.read_csv(\"Surveydata_test.csv\")\n",
    "test_t = pd.read_csv(\"Traveldata_test.csv\")"
   ]
  },
  {
   "cell_type": "markdown",
   "id": "0d240812",
   "metadata": {},
   "source": [
    "# Merge survey and travel data for train and test"
   ]
  },
  {
   "cell_type": "code",
   "execution_count": 59,
   "id": "883794d5",
   "metadata": {},
   "outputs": [],
   "source": [
    "train = train_s.merge(train_t,how='outer', left_on='ID', right_on='ID')\n",
    "test = test_s.merge(test_t,how='outer', left_on='ID', right_on='ID')"
   ]
  },
  {
   "cell_type": "markdown",
   "id": "5266e186",
   "metadata": {},
   "source": [
    "# Dependant variable balance check"
   ]
  },
  {
   "cell_type": "code",
   "execution_count": 2,
   "id": "8a4f1277",
   "metadata": {},
   "outputs": [],
   "source": [
    "#print('Train Data split \\n',train['Overall_Experience'].value_counts())"
   ]
  },
  {
   "cell_type": "code",
   "execution_count": null,
   "id": "de4da85f",
   "metadata": {},
   "outputs": [],
   "source": [
    "## the dependant variable is split quite evenly in training dataset\n",
    "## dependant variable not present in test set "
   ]
  },
  {
   "cell_type": "markdown",
   "id": "600331bd",
   "metadata": {},
   "source": [
    "# Check categorical values"
   ]
  },
  {
   "cell_type": "code",
   "execution_count": 1,
   "id": "a9e01fdb",
   "metadata": {},
   "outputs": [],
   "source": [
    "#for column in train.drop('ID',1).columns:\n",
    "\n",
    "    #print(train[column].value_counts(),'\\n')"
   ]
  },
  {
   "cell_type": "code",
   "execution_count": 97,
   "id": "b28afbb6",
   "metadata": {},
   "outputs": [],
   "source": [
    "## commented out after check ##\n",
    "\n",
    "# for column in test.drop('ID',1).columns:\n",
    "\n",
    "    #print(test[column].value_counts(),'\\n')"
   ]
  },
  {
   "cell_type": "code",
   "execution_count": null,
   "id": "56b846c4",
   "metadata": {},
   "outputs": [],
   "source": [
    "## categorical variables make sense but require ordinal label encoding (more positive result = high number)"
   ]
  },
  {
   "cell_type": "markdown",
   "id": "5b4743b5",
   "metadata": {},
   "source": [
    "# Encoding"
   ]
  },
  {
   "cell_type": "code",
   "execution_count": 60,
   "id": "be730076",
   "metadata": {},
   "outputs": [],
   "source": [
    "scale_cols = ['Seat_Comfort','Arrival_Time_Convenient','Catering','Onboard_Wifi_Service','Onboard_Entertainment','Online_Support','Ease_of_Online_Booking','Onboard_Service','Legroom','Baggage_Handling','CheckIn_Service','Cleanliness','Online_Boarding']\n",
    "scale_dic = {'Extremely Poor':0,'Poor':1,'Needs Improvement':2,'Acceptable':3,'Good':4,'Excellent':5} \n",
    "platform_dic = {'Very Inconvenient':0,'Inconvenient':1,'Needs Improvement':2,'Manageable':3,'Convenient':4,'Very Convenient':5}"
   ]
  },
  {
   "cell_type": "code",
   "execution_count": 61,
   "id": "ca15b0b0",
   "metadata": {},
   "outputs": [],
   "source": [
    "##TEST dataset##\n",
    "\n",
    "for columns in scale_cols:\n",
    "    test = test.replace({columns:scale_dic})\n",
    "\n",
    "test = test.replace({'Platform_Location':platform_dic})\n",
    "\n",
    "test = pd.get_dummies(test, drop_first = True)\n",
    "#print(test.head(5))\n",
    "\n",
    "##TRAIN dataset##\n",
    "\n",
    "for columns in scale_cols:\n",
    "    train = train.replace({columns:scale_dic})\n",
    "\n",
    "train = train.replace({'Platform_Location':platform_dic})\n",
    "\n",
    "train = pd.get_dummies(train, drop_first = True)\n",
    "#print(train.head(5))"
   ]
  },
  {
   "cell_type": "markdown",
   "id": "53948458",
   "metadata": {},
   "source": [
    "# Fill N/A's"
   ]
  },
  {
   "cell_type": "code",
   "execution_count": 62,
   "id": "f8116a39",
   "metadata": {},
   "outputs": [],
   "source": [
    "for i in train:\n",
    "    train[i].fillna(value = train[i].median(), inplace =True)\n",
    "#print(train.info())\n",
    "\n",
    "for i in test:\n",
    "    test[i].fillna(value = test[i].median(), inplace =True)\n",
    "#print(test.info())"
   ]
  },
  {
   "cell_type": "markdown",
   "id": "82101c27",
   "metadata": {},
   "source": [
    "# Split independant and dependant variables"
   ]
  },
  {
   "cell_type": "code",
   "execution_count": 92,
   "id": "d1a3c694",
   "metadata": {},
   "outputs": [],
   "source": [
    "#94.9 'ID','Overall_Experience','Arrival_Delay_in_Mins','Departure_Delay_in_Mins','Seat_Class_Ordinary'\n",
    "X = train.drop(columns = ['ID','Overall_Experience','Departure_Delay_in_Mins','Seat_Class_Ordinary'], axis=1)\n",
    "y = train['Overall_Experience']\n",
    "\n",
    "test_X = test.drop(columns = ['ID','Departure_Delay_in_Mins','Seat_Class_Ordinary'], axis=1)"
   ]
  },
  {
   "cell_type": "markdown",
   "id": "9d7fa914",
   "metadata": {},
   "source": [
    "# Split train into two data sets "
   ]
  },
  {
   "cell_type": "code",
   "execution_count": 93,
   "id": "3079684a",
   "metadata": {},
   "outputs": [],
   "source": [
    "train_X1, train_X2, train_y1, train_y2 = sklearn.model_selection.train_test_split(X, y, test_size = 0.1, random_state = 1, stratify = y)"
   ]
  },
  {
   "cell_type": "markdown",
   "id": "d6a5b60c",
   "metadata": {},
   "source": [
    "# Grid Search CV"
   ]
  },
  {
   "cell_type": "code",
   "execution_count": 94,
   "id": "f26a065d",
   "metadata": {},
   "outputs": [
    {
     "name": "stdout",
     "output_type": "stream",
     "text": [
      "0.9503537918689328\n",
      "{'criterion': 'gini', 'max_depth': 20, 'min_samples_split': 2, 'n_estimators': 200}\n"
     ]
    }
   ],
   "source": [
    "param_grid = {'n_estimators':[200], 'max_depth': [15,18,20],'min_samples_split': [2,4,6],'criterion':['gini']}\n",
    "\n",
    "grid_obj = GridSearchCV(ensemble.RandomForestClassifier(), param_grid, scoring='accuracy', cv=3, n_jobs=-1)\n",
    "\n",
    "grid_obj.fit(train_X1,train_y1)\n",
    "\n",
    "print(grid_obj.best_score_)\n",
    "\n",
    "print(grid_obj.best_params_)"
   ]
  },
  {
   "cell_type": "markdown",
   "id": "7c979e03",
   "metadata": {},
   "source": [
    "# Train and test with recursive feature extraction"
   ]
  },
  {
   "cell_type": "code",
   "execution_count": 118,
   "id": "6ed623be",
   "metadata": {},
   "outputs": [
    {
     "name": "stdout",
     "output_type": "stream",
     "text": [
      "Accuracy 1 0.995\n",
      "Accuracy 2 0.95\n"
     ]
    }
   ],
   "source": [
    "### sklearn.feature_selection.RFE\n",
    "# 18 features\n",
    "\n",
    "rfe = RFE(estimator=ensemble.RandomForestClassifier(n_estimators=200,max_depth=20,min_samples_split=2,criterion='gini'), n_features_to_select=20)\n",
    "\n",
    "rfe.fit(train_X1,train_y1)\n",
    "\n",
    "y1_pred_train = rfe.predict(train_X1)\n",
    "y2_pred_train = rfe.predict(train_X2)\n",
    "\n",
    "print('Accuracy 1',round(metrics.accuracy_score(train_y1,y1_pred_train),3))\n",
    "print('Accuracy 2',round(metrics.accuracy_score(train_y2,y2_pred_train),3))"
   ]
  },
  {
   "cell_type": "markdown",
   "id": "6919ba00",
   "metadata": {},
   "source": [
    "# Fit to whole dataset"
   ]
  },
  {
   "cell_type": "code",
   "execution_count": 119,
   "id": "135c1cd3",
   "metadata": {},
   "outputs": [
    {
     "data": {
      "text/plain": [
       "RFE(estimator=RandomForestClassifier(max_depth=20, n_estimators=200),\n",
       "    n_features_to_select=20)"
      ]
     },
     "execution_count": 119,
     "metadata": {},
     "output_type": "execute_result"
    }
   ],
   "source": [
    "rfe.fit(X,y)"
   ]
  },
  {
   "cell_type": "markdown",
   "id": "2e7a22bd",
   "metadata": {},
   "source": [
    "# Importances"
   ]
  },
  {
   "cell_type": "code",
   "execution_count": 52,
   "id": "ec2c0879",
   "metadata": {},
   "outputs": [
    {
     "data": {
      "text/html": [
       "<div>\n",
       "<style scoped>\n",
       "    .dataframe tbody tr th:only-of-type {\n",
       "        vertical-align: middle;\n",
       "    }\n",
       "\n",
       "    .dataframe tbody tr th {\n",
       "        vertical-align: top;\n",
       "    }\n",
       "\n",
       "    .dataframe thead th {\n",
       "        text-align: right;\n",
       "    }\n",
       "</style>\n",
       "<table border=\"1\" class=\"dataframe\">\n",
       "  <thead>\n",
       "    <tr style=\"text-align: right;\">\n",
       "      <th></th>\n",
       "      <th>Importance</th>\n",
       "    </tr>\n",
       "  </thead>\n",
       "  <tbody>\n",
       "    <tr>\n",
       "      <th>Onboard_Entertainment</th>\n",
       "      <td>0.206368</td>\n",
       "    </tr>\n",
       "    <tr>\n",
       "      <th>Seat_Comfort</th>\n",
       "      <td>0.142941</td>\n",
       "    </tr>\n",
       "    <tr>\n",
       "      <th>Ease_of_Online_Booking</th>\n",
       "      <td>0.081308</td>\n",
       "    </tr>\n",
       "    <tr>\n",
       "      <th>Online_Support</th>\n",
       "      <td>0.072315</td>\n",
       "    </tr>\n",
       "    <tr>\n",
       "      <th>Legroom</th>\n",
       "      <td>0.045147</td>\n",
       "    </tr>\n",
       "    <tr>\n",
       "      <th>Travel_Class_Eco</th>\n",
       "      <td>0.044707</td>\n",
       "    </tr>\n",
       "    <tr>\n",
       "      <th>Online_Boarding</th>\n",
       "      <td>0.037110</td>\n",
       "    </tr>\n",
       "    <tr>\n",
       "      <th>Catering</th>\n",
       "      <td>0.035376</td>\n",
       "    </tr>\n",
       "    <tr>\n",
       "      <th>Onboard_Service</th>\n",
       "      <td>0.033600</td>\n",
       "    </tr>\n",
       "    <tr>\n",
       "      <th>Gender_Male</th>\n",
       "      <td>0.032443</td>\n",
       "    </tr>\n",
       "    <tr>\n",
       "      <th>Travel_Distance</th>\n",
       "      <td>0.030059</td>\n",
       "    </tr>\n",
       "    <tr>\n",
       "      <th>Customer_Type_Loyal Customer</th>\n",
       "      <td>0.029606</td>\n",
       "    </tr>\n",
       "    <tr>\n",
       "      <th>Cleanliness</th>\n",
       "      <td>0.025939</td>\n",
       "    </tr>\n",
       "    <tr>\n",
       "      <th>Baggage_Handling</th>\n",
       "      <td>0.025721</td>\n",
       "    </tr>\n",
       "    <tr>\n",
       "      <th>Age</th>\n",
       "      <td>0.025400</td>\n",
       "    </tr>\n",
       "    <tr>\n",
       "      <th>Type_Travel_Personal Travel</th>\n",
       "      <td>0.024914</td>\n",
       "    </tr>\n",
       "    <tr>\n",
       "      <th>CheckIn_Service</th>\n",
       "      <td>0.023762</td>\n",
       "    </tr>\n",
       "    <tr>\n",
       "      <th>Arrival_Time_Convenient</th>\n",
       "      <td>0.019844</td>\n",
       "    </tr>\n",
       "    <tr>\n",
       "      <th>Onboard_Wifi_Service</th>\n",
       "      <td>0.017842</td>\n",
       "    </tr>\n",
       "    <tr>\n",
       "      <th>Platform_Location</th>\n",
       "      <td>0.017387</td>\n",
       "    </tr>\n",
       "    <tr>\n",
       "      <th>Arrival_Delay_in_Mins</th>\n",
       "      <td>0.013371</td>\n",
       "    </tr>\n",
       "    <tr>\n",
       "      <th>Departure_Delay_in_Mins</th>\n",
       "      <td>0.012180</td>\n",
       "    </tr>\n",
       "    <tr>\n",
       "      <th>Seat_Class_Ordinary</th>\n",
       "      <td>0.002659</td>\n",
       "    </tr>\n",
       "  </tbody>\n",
       "</table>\n",
       "</div>"
      ],
      "text/plain": [
       "                              Importance\n",
       "Onboard_Entertainment           0.206368\n",
       "Seat_Comfort                    0.142941\n",
       "Ease_of_Online_Booking          0.081308\n",
       "Online_Support                  0.072315\n",
       "Legroom                         0.045147\n",
       "Travel_Class_Eco                0.044707\n",
       "Online_Boarding                 0.037110\n",
       "Catering                        0.035376\n",
       "Onboard_Service                 0.033600\n",
       "Gender_Male                     0.032443\n",
       "Travel_Distance                 0.030059\n",
       "Customer_Type_Loyal Customer    0.029606\n",
       "Cleanliness                     0.025939\n",
       "Baggage_Handling                0.025721\n",
       "Age                             0.025400\n",
       "Type_Travel_Personal Travel     0.024914\n",
       "CheckIn_Service                 0.023762\n",
       "Arrival_Time_Convenient         0.019844\n",
       "Onboard_Wifi_Service            0.017842\n",
       "Platform_Location               0.017387\n",
       "Arrival_Delay_in_Mins           0.013371\n",
       "Departure_Delay_in_Mins         0.012180\n",
       "Seat_Class_Ordinary             0.002659"
      ]
     },
     "execution_count": 52,
     "metadata": {},
     "output_type": "execute_result"
    }
   ],
   "source": [
    "importances = model.feature_importances_\n",
    "columns = train_X1.columns\n",
    "importance_df = pd.DataFrame(importances, index = columns, columns = {\"Importance\"})\n",
    "importance_df.sort_values(['Importance'],ascending=False)"
   ]
  },
  {
   "cell_type": "markdown",
   "id": "b9f6edf0",
   "metadata": {},
   "source": [
    "# RUN ON TEST AND DOWNLOAD CSV"
   ]
  },
  {
   "cell_type": "code",
   "execution_count": 120,
   "id": "5287d35a",
   "metadata": {},
   "outputs": [
    {
     "name": "stdout",
     "output_type": "stream",
     "text": [
      "             ID  Overall_Experience\n",
      "0      99900001                   1\n",
      "1      99900002                   1\n",
      "2      99900003                   1\n",
      "3      99900004                   0\n",
      "4      99900005                   1\n",
      "...         ...                 ...\n",
      "35597  99935598                   0\n",
      "35598  99935599                   1\n",
      "35599  99935600                   1\n",
      "35600  99935601                   1\n",
      "35601  99935602                   0\n",
      "\n",
      "[35602 rows x 2 columns]\n"
     ]
    }
   ],
   "source": [
    "y_pred_test = rfe.predict(test_X)\n",
    "test['Overall_Experience'] = y_pred_test\n",
    "print(test[['ID','Overall_Experience']])\n",
    "test = test[['ID','Overall_Experience']]\n",
    "test.to_csv(r'C:\\Users\\VK\\MIT\\Hackathon\\Submit9.csv', index=False)"
   ]
  }
 ],
 "metadata": {
  "kernelspec": {
   "display_name": "Python 3 (ipykernel)",
   "language": "python",
   "name": "python3"
  },
  "language_info": {
   "codemirror_mode": {
    "name": "ipython",
    "version": 3
   },
   "file_extension": ".py",
   "mimetype": "text/x-python",
   "name": "python",
   "nbconvert_exporter": "python",
   "pygments_lexer": "ipython3",
   "version": "3.9.12"
  }
 },
 "nbformat": 4,
 "nbformat_minor": 5
}
