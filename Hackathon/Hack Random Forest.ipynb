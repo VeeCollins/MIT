{
 "cells": [
  {
   "cell_type": "code",
   "execution_count": 99,
   "id": "bd06f98a",
   "metadata": {},
   "outputs": [],
   "source": [
    "import pandas as pd\n",
    "import numpy as np\n",
    "import matplotlib as plt\n",
    "import seaborn as sea\n",
    "import sklearn\n",
    "import sklearn.ensemble as ensemble\n",
    "import sklearn.tree as tree\n",
    "import sklearn.metrics as metrics\n",
    "import sklearn.linear_model as linear\n",
    "from sklearn import preprocessing\n",
    "from sklearn.model_selection import GridSearchCV\n",
    "from sklearn.feature_selection import RFE"
   ]
  },
  {
   "cell_type": "markdown",
   "id": "6b952063",
   "metadata": {},
   "source": [
    "# Hackathon Shinkansen Travel Experience"
   ]
  },
  {
   "cell_type": "code",
   "execution_count": 100,
   "id": "6b57d7a1",
   "metadata": {},
   "outputs": [],
   "source": [
    "train_s = pd.read_csv(\"Surveydata_train.csv\")\n",
    "train_t = pd.read_csv(\"Traveldata_train.csv\")\n",
    "test_s = pd.read_csv(\"Surveydata_test.csv\")\n",
    "test_t = pd.read_csv(\"Traveldata_test.csv\")"
   ]
  },
  {
   "cell_type": "markdown",
   "id": "0d240812",
   "metadata": {},
   "source": [
    "# Merge survey and travel data for train and test"
   ]
  },
  {
   "cell_type": "code",
   "execution_count": 101,
   "id": "883794d5",
   "metadata": {},
   "outputs": [],
   "source": [
    "train = train_s.merge(train_t,how='outer', left_on='ID', right_on='ID')\n",
    "test = test_s.merge(test_t,how='outer', left_on='ID', right_on='ID')"
   ]
  },
  {
   "cell_type": "markdown",
   "id": "5266e186",
   "metadata": {},
   "source": [
    "# Dependant variable balance check"
   ]
  },
  {
   "cell_type": "code",
   "execution_count": 102,
   "id": "8a4f1277",
   "metadata": {},
   "outputs": [
    {
     "name": "stdout",
     "output_type": "stream",
     "text": [
      "Train Data split \n",
      " 1    51593\n",
      "0    42786\n",
      "Name: Overall_Experience, dtype: int64\n"
     ]
    }
   ],
   "source": [
    "print('Train Data split \\n',train['Overall_Experience'].value_counts())"
   ]
  },
  {
   "cell_type": "code",
   "execution_count": 103,
   "id": "de4da85f",
   "metadata": {},
   "outputs": [],
   "source": [
    "## the dependant variable is split quite evenly in training dataset\n",
    "## dependant variable removed from test set for hackathon"
   ]
  },
  {
   "cell_type": "markdown",
   "id": "600331bd",
   "metadata": {},
   "source": [
    "# Check categorical values"
   ]
  },
  {
   "cell_type": "code",
   "execution_count": 109,
   "id": "a9e01fdb",
   "metadata": {},
   "outputs": [
    {
     "name": "stdout",
     "output_type": "stream",
     "text": [
      "TEST \n",
      "\n",
      "Acceptable           8003\n",
      "Needs Improvement    7831\n",
      "Good                 7808\n",
      "Poor                 5755\n",
      "Excellent            4854\n",
      "Extremely Poor       1329\n",
      "Name: Seat_Comfort, dtype: int64 \n",
      "\n",
      "Ordinary     17860\n",
      "Green Car    17742\n",
      "Name: Seat_Class, dtype: int64 \n",
      "\n",
      "Good                 7361\n",
      "Excellent            6589\n",
      "Acceptable           5844\n",
      "Needs Improvement    5684\n",
      "Poor                 5131\n",
      "Extremely Poor       1668\n",
      "Name: Arrival_Time_Convenient, dtype: int64 \n",
      "\n",
      "Acceptable           7133\n",
      "Needs Improvement    6701\n",
      "Good                 6701\n",
      "Poor                 5178\n",
      "Excellent            5025\n",
      "Extremely Poor       1507\n",
      "Name: Catering, dtype: int64 \n",
      "\n",
      "Manageable           9364\n",
      "Convenient           8178\n",
      "Needs Improvement    6703\n",
      "Inconvenient         6134\n",
      "Very Convenient      5211\n",
      "Name: Platform_Location, dtype: int64 \n",
      "\n",
      "Good                 8743\n",
      "Excellent            7875\n",
      "Acceptable           7495\n",
      "Needs Improvement    7456\n",
      "Poor                 3980\n",
      "Extremely Poor         41\n",
      "Name: Onboard_Wifi_Service, dtype: int64 \n",
      "\n",
      "Good                 11436\n",
      "Excellent             8204\n",
      "Acceptable            6675\n",
      "Needs Improvement     5279\n",
      "Poor                  3167\n",
      "Extremely Poor         833\n",
      "Name: Onboard_Entertainment, dtype: int64 \n",
      "\n",
      "Good                 11487\n",
      "Excellent             9665\n",
      "Acceptable            5902\n",
      "Needs Improvement     4755\n",
      "Poor                  3767\n",
      "Name: Online_Support, dtype: int64 \n",
      "\n",
      "Good                 11025\n",
      "Excellent             9380\n",
      "Acceptable            6029\n",
      "Needs Improvement     5474\n",
      "Poor                  3674\n",
      "Extremely Poor           2\n",
      "Name: Ease_of_Online_Booking, dtype: int64 \n",
      "\n",
      "Good                 10222\n",
      "Excellent             7941\n",
      "Acceptable            6770\n",
      "Needs Improvement     4385\n",
      "Poor                  3412\n",
      "Name: Onboard_Service, dtype: int64 \n",
      "\n",
      "Good                 10842\n",
      "Excellent             9536\n",
      "Acceptable            6079\n",
      "Needs Improvement     5992\n",
      "Poor                  3025\n",
      "Extremely Poor         103\n",
      "Name: Legroom, dtype: int64 \n",
      "\n",
      "Good                 13291\n",
      "Excellent             9729\n",
      "Acceptable            6683\n",
      "Needs Improvement     3659\n",
      "Poor                  2200\n",
      "Name: Baggage_Handling, dtype: int64 \n",
      "\n",
      "Good                 9982\n",
      "Acceptable           9740\n",
      "Excellent            7375\n",
      "Needs Improvement    4262\n",
      "Poor                 4221\n",
      "Name: CheckIn_Service, dtype: int64 \n",
      "\n",
      "Good                 13421\n",
      "Excellent             9900\n",
      "Acceptable            6534\n",
      "Needs Improvement     3607\n",
      "Poor                  2138\n",
      "Name: Cleanliness, dtype: int64 \n",
      "\n",
      "Good                 9680\n",
      "Acceptable           8323\n",
      "Excellent            8250\n",
      "Needs Improvement    5134\n",
      "Poor                 4211\n",
      "Extremely Poor          2\n",
      "Name: Online_Boarding, dtype: int64 \n",
      "\n",
      "Female    18069\n",
      "Male      17503\n",
      "Name: Gender, dtype: int64 \n",
      "\n",
      "Loyal Customer       26349\n",
      "Disloyal Customer     5870\n",
      "Name: Customer_Type, dtype: int64 \n",
      "\n",
      "39.0    1003\n",
      "25.0     968\n",
      "40.0     877\n",
      "41.0     842\n",
      "45.0     820\n",
      "        ... \n",
      "75.0      20\n",
      "78.0      14\n",
      "79.0      13\n",
      "74.0      11\n",
      "85.0       7\n",
      "Name: Age, Length: 75, dtype: int64 \n",
      "\n",
      "Business Travel    22313\n",
      "Personal Travel     9841\n",
      "Name: Type_Travel, dtype: int64 \n",
      "\n",
      "Eco         18473\n",
      "Business    17129\n",
      "Name: Travel_Class, dtype: int64 \n",
      "\n",
      "1760    31\n",
      "1839    29\n",
      "1875    29\n",
      "2059    29\n",
      "1965    28\n",
      "        ..\n",
      "4126     1\n",
      "4826     1\n",
      "5438     1\n",
      "666      1\n",
      "5090     1\n",
      "Name: Travel_Distance, Length: 4644, dtype: int64 \n",
      "\n",
      "0.0      20028\n",
      "1.0        946\n",
      "2.0        765\n",
      "3.0        697\n",
      "4.0        667\n",
      "         ...  \n",
      "296.0        1\n",
      "371.0        1\n",
      "267.0        1\n",
      "217.0        1\n",
      "420.0        1\n",
      "Name: Departure_Delay_in_Mins, Length: 350, dtype: int64 \n",
      "\n",
      "0.0      19848\n",
      "1.0        750\n",
      "3.0        688\n",
      "2.0        686\n",
      "4.0        662\n",
      "         ...  \n",
      "372.0        1\n",
      "287.0        1\n",
      "283.0        1\n",
      "234.0        1\n",
      "269.0        1\n",
      "Name: Arrival_Delay_in_Mins, Length: 355, dtype: int64 \n",
      "\n",
      "TRAIN \n",
      "\n",
      "1    51593\n",
      "0    42786\n",
      "Name: Overall_Experience, dtype: int64 \n",
      "\n",
      "Acceptable           21158\n",
      "Needs Improvement    20946\n",
      "Good                 20595\n",
      "Poor                 15185\n",
      "Excellent            12971\n",
      "Extremely Poor        3463\n",
      "Name: Seat_Comfort, dtype: int64 \n",
      "\n",
      "Green Car    47435\n",
      "Ordinary     46944\n",
      "Name: Seat_Class, dtype: int64 \n",
      "\n",
      "Good                 19574\n",
      "Excellent            17684\n",
      "Acceptable           15177\n",
      "Needs Improvement    14990\n",
      "Poor                 13692\n",
      "Extremely Poor        4332\n",
      "Name: Arrival_Time_Convenient, dtype: int64 \n",
      "\n",
      "Acceptable           18468\n",
      "Needs Improvement    17978\n",
      "Good                 17969\n",
      "Poor                 13858\n",
      "Excellent            13455\n",
      "Extremely Poor        3910\n",
      "Name: Catering, dtype: int64 \n",
      "\n",
      "Manageable           24173\n",
      "Convenient           21912\n",
      "Needs Improvement    17832\n",
      "Inconvenient         16449\n",
      "Very Convenient      13981\n",
      "Very Inconvenient        2\n",
      "Name: Platform_Location, dtype: int64 \n",
      "\n",
      "Good                 22835\n",
      "Excellent            20968\n",
      "Acceptable           20118\n",
      "Needs Improvement    19596\n",
      "Poor                 10741\n",
      "Extremely Poor          91\n",
      "Name: Onboard_Wifi_Service, dtype: int64 \n",
      "\n",
      "Good                 30446\n",
      "Excellent            21644\n",
      "Acceptable           17560\n",
      "Needs Improvement    13926\n",
      "Poor                  8641\n",
      "Extremely Poor        2144\n",
      "Name: Onboard_Entertainment, dtype: int64 \n",
      "\n",
      "Good                 30016\n",
      "Excellent            25894\n",
      "Acceptable           15702\n",
      "Needs Improvement    12508\n",
      "Poor                 10167\n",
      "Extremely Poor           1\n",
      "Name: Online_Support, dtype: int64 \n",
      "\n",
      "Good                 28909\n",
      "Excellent            24744\n",
      "Acceptable           16390\n",
      "Needs Improvement    14479\n",
      "Poor                  9768\n",
      "Extremely Poor          16\n",
      "Name: Ease_of_Online_Booking, dtype: int64 \n",
      "\n",
      "Good                 27265\n",
      "Excellent            21272\n",
      "Acceptable           18071\n",
      "Needs Improvement    11390\n",
      "Poor                  8776\n",
      "Extremely Poor           4\n",
      "Name: Onboard_Service, dtype: int64 \n",
      "\n",
      "Good                 28870\n",
      "Excellent            24832\n",
      "Acceptable           16384\n",
      "Needs Improvement    15753\n",
      "Poor                  8110\n",
      "Extremely Poor         340\n",
      "Name: Legroom, dtype: int64 \n",
      "\n",
      "Good                 34944\n",
      "Excellent            26003\n",
      "Acceptable           17767\n",
      "Needs Improvement     9759\n",
      "Poor                  5764\n",
      "Name: Baggage_Handling, dtype: int64 \n",
      "\n",
      "Good                 26502\n",
      "Acceptable           25803\n",
      "Excellent            19641\n",
      "Needs Improvement    11218\n",
      "Poor                 11137\n",
      "Extremely Poor           1\n",
      "Name: CheckIn_Service, dtype: int64 \n",
      "\n",
      "Good                 35427\n",
      "Excellent            26053\n",
      "Acceptable           17449\n",
      "Needs Improvement     9806\n",
      "Poor                  5633\n",
      "Extremely Poor           5\n",
      "Name: Cleanliness, dtype: int64 \n",
      "\n",
      "Good                 25533\n",
      "Acceptable           22475\n",
      "Excellent            21742\n",
      "Needs Improvement    13451\n",
      "Poor                 11160\n",
      "Extremely Poor          12\n",
      "Name: Online_Boarding, dtype: int64 \n",
      "\n",
      "Female    47815\n",
      "Male      46487\n",
      "Name: Gender, dtype: int64 \n",
      "\n",
      "Loyal Customer       69823\n",
      "Disloyal Customer    15605\n",
      "Name: Customer_Type, dtype: int64 \n",
      "\n"
     ]
    },
    {
     "name": "stderr",
     "output_type": "stream",
     "text": [
      "C:\\Users\\VK\\AppData\\Local\\Temp\\ipykernel_3596\\2685881237.py:3: FutureWarning: In a future version of pandas all arguments of DataFrame.drop except for the argument 'labels' will be keyword-only.\n",
      "  for column in ds.drop('ID',1).columns:\n",
      "C:\\Users\\VK\\AppData\\Local\\Temp\\ipykernel_3596\\2685881237.py:3: FutureWarning: In a future version of pandas all arguments of DataFrame.drop except for the argument 'labels' will be keyword-only.\n",
      "  for column in ds.drop('ID',1).columns:\n"
     ]
    },
    {
     "name": "stdout",
     "output_type": "stream",
     "text": [
      "39.0    2688\n",
      "25.0    2542\n",
      "40.0    2333\n",
      "44.0    2291\n",
      "41.0    2248\n",
      "        ... \n",
      "73.0      47\n",
      "79.0      39\n",
      "76.0      38\n",
      "78.0      30\n",
      "85.0      18\n",
      "Name: Age, Length: 75, dtype: int64 \n",
      "\n",
      "Business Travel    58617\n",
      "Personal Travel    26536\n",
      "Name: Type_Travel, dtype: int64 \n",
      "\n",
      "Eco         49342\n",
      "Business    45037\n",
      "Name: Travel_Class, dtype: int64 \n",
      "\n",
      "1963    72\n",
      "1789    68\n",
      "1894    65\n",
      "1639    65\n",
      "1981    64\n",
      "        ..\n",
      "5028     1\n",
      "4312     1\n",
      "5267     1\n",
      "4094     1\n",
      "4156     1\n",
      "Name: Travel_Distance, Length: 5210, dtype: int64 \n",
      "\n",
      "0.0      53339\n",
      "1.0       2734\n",
      "2.0       2096\n",
      "3.0       1838\n",
      "4.0       1641\n",
      "         ...  \n",
      "933.0        1\n",
      "292.0        1\n",
      "323.0        1\n",
      "815.0        1\n",
      "610.0        1\n",
      "Name: Departure_Delay_in_Mins, Length: 437, dtype: int64 \n",
      "\n",
      "0.0      52915\n",
      "1.0       1995\n",
      "2.0       1899\n",
      "3.0       1757\n",
      "4.0       1713\n",
      "         ...  \n",
      "586.0        1\n",
      "399.0        1\n",
      "920.0        1\n",
      "267.0        1\n",
      "593.0        1\n",
      "Name: Arrival_Delay_in_Mins, Length: 434, dtype: int64 \n",
      "\n"
     ]
    }
   ],
   "source": [
    "def valCounts(ds):\n",
    "\n",
    "    for column in ds.drop('ID',1).columns:\n",
    "\n",
    "        print(ds[column].value_counts(),'\\n')\n",
    "print(\"TEST \\n\")\n",
    "valCounts(test)\n",
    "print(\"TRAIN \\n\")\n",
    "valCounts(train)"
   ]
  },
  {
   "cell_type": "code",
   "execution_count": 91,
   "id": "56b846c4",
   "metadata": {},
   "outputs": [],
   "source": [
    "## categorical variables make sense but require ordinal label encoding (more positive result = high number)"
   ]
  },
  {
   "cell_type": "markdown",
   "id": "5b4743b5",
   "metadata": {},
   "source": [
    "# Encoding"
   ]
  },
  {
   "cell_type": "code",
   "execution_count": 52,
   "id": "be730076",
   "metadata": {},
   "outputs": [],
   "source": [
    "scale_cols = ['Seat_Comfort','Arrival_Time_Convenient','Catering','Onboard_Wifi_Service','Onboard_Entertainment','Online_Support','Ease_of_Online_Booking','Onboard_Service','Legroom','Baggage_Handling','CheckIn_Service','Cleanliness','Online_Boarding']\n",
    "scale_dic = {'Extremely Poor':0,'Poor':1,'Needs Improvement':2,'Acceptable':3,'Good':4,'Excellent':5} \n",
    "platform_dic = {'Very Inconvenient':0,'Inconvenient':1,'Needs Improvement':2,'Manageable':3,'Convenient':4,'Very Convenient':5}"
   ]
  },
  {
   "cell_type": "code",
   "execution_count": 74,
   "id": "ca15b0b0",
   "metadata": {},
   "outputs": [],
   "source": [
    "def scaler(ds):\n",
    "    for columns in scale_cols:\n",
    "        ds = ds.replace({columns:scale_dic}) # ordinal encoding on specifed columns\n",
    "\n",
    "    ds = ds.replace({'Platform_Location':platform_dic}) # ordinal encoding on one column\n",
    "\n",
    "    ds = pd.get_dummies(ds, drop_first = True) # binary encoding everything else\n",
    "    return ds\n",
    "    \n",
    "test = (scaler(test))  \n",
    "train = (scaler(train))\n",
    "#print(test.head(2))\n",
    "#print(train.head(2))"
   ]
  },
  {
   "cell_type": "markdown",
   "id": "53948458",
   "metadata": {},
   "source": [
    "# Fill N/A's"
   ]
  },
  {
   "cell_type": "code",
   "execution_count": 76,
   "id": "f8116a39",
   "metadata": {},
   "outputs": [],
   "source": [
    "def nas(ds):\n",
    "\n",
    "    for i in ds:\n",
    "        ds[i].fillna(value = ds[i].median(), inplace =True)\n",
    "    return ds\n",
    "\n",
    "train = nas(train)\n",
    "test = nas(test)\n",
    "#print(train.info())\n",
    "#print(test.info())"
   ]
  },
  {
   "cell_type": "markdown",
   "id": "82101c27",
   "metadata": {},
   "source": [
    "# Split independant and dependant variables"
   ]
  },
  {
   "cell_type": "code",
   "execution_count": 77,
   "id": "d1a3c694",
   "metadata": {},
   "outputs": [],
   "source": [
    "#94.9 'ID','Overall_Experience','Arrival_Delay_in_Mins','Departure_Delay_in_Mins','Seat_Class_Ordinary'\n",
    "X = train.drop(columns = ['ID','Overall_Experience','Departure_Delay_in_Mins','Seat_Class_Ordinary'], axis=1)\n",
    "y = train['Overall_Experience']\n",
    "\n",
    "test_X = test.drop(columns = ['ID','Departure_Delay_in_Mins','Seat_Class_Ordinary'], axis=1)"
   ]
  },
  {
   "cell_type": "markdown",
   "id": "9d7fa914",
   "metadata": {},
   "source": [
    "# Split train into two data sets "
   ]
  },
  {
   "cell_type": "code",
   "execution_count": 78,
   "id": "3079684a",
   "metadata": {},
   "outputs": [],
   "source": [
    "train_X1, train_X2, train_y1, train_y2 = sklearn.model_selection.train_test_split(X, y, test_size = 0.1, random_state = 1, stratify = y)"
   ]
  },
  {
   "cell_type": "markdown",
   "id": "d6a5b60c",
   "metadata": {},
   "source": [
    "# Grid Search CV"
   ]
  },
  {
   "cell_type": "code",
   "execution_count": 79,
   "id": "f26a065d",
   "metadata": {},
   "outputs": [
    {
     "name": "stdout",
     "output_type": "stream",
     "text": [
      "0.9501889697800346\n",
      "{'criterion': 'gini', 'max_depth': 20, 'min_samples_split': 2, 'n_estimators': 200}\n"
     ]
    }
   ],
   "source": [
    "param_grid = {'n_estimators':[200], 'max_depth': [15,18,20],'min_samples_split': [2,4,6],'criterion':['gini']}\n",
    "\n",
    "grid_obj = GridSearchCV(ensemble.RandomForestClassifier(), param_grid, scoring='accuracy', cv=3, n_jobs=-1)\n",
    "\n",
    "grid_obj.fit(train_X1,train_y1)\n",
    "\n",
    "print(grid_obj.best_score_)\n",
    "\n",
    "print(grid_obj.best_params_)"
   ]
  },
  {
   "cell_type": "markdown",
   "id": "7c979e03",
   "metadata": {},
   "source": [
    "# Train and test with recursive feature extraction"
   ]
  },
  {
   "cell_type": "code",
   "execution_count": 82,
   "id": "6ed623be",
   "metadata": {},
   "outputs": [
    {
     "name": "stdout",
     "output_type": "stream",
     "text": [
      "Accuracy 1 0.995\n",
      "Accuracy 2 0.95\n"
     ]
    }
   ],
   "source": [
    "rfe = RFE(estimator=ensemble.RandomForestClassifier(n_estimators=200,max_depth=20,min_samples_split=2,criterion='gini'), n_features_to_select=19)\n",
    "# find n most important feaures to train on\n",
    "rfe.fit(train_X1,train_y1)\n",
    "\n",
    "y1_pred_train = rfe.predict(train_X1)\n",
    "y2_pred_train = rfe.predict(train_X2)\n",
    "\n",
    "print('Accuracy 1',round(metrics.accuracy_score(train_y1,y1_pred_train),3))\n",
    "print('Accuracy 2',round(metrics.accuracy_score(train_y2,y2_pred_train),3))"
   ]
  },
  {
   "cell_type": "markdown",
   "id": "6919ba00",
   "metadata": {},
   "source": [
    "# Fit to whole dataset"
   ]
  },
  {
   "cell_type": "code",
   "execution_count": 83,
   "id": "135c1cd3",
   "metadata": {},
   "outputs": [
    {
     "data": {
      "text/plain": [
       "RFE(estimator=RandomForestClassifier(max_depth=20, n_estimators=200),\n",
       "    n_features_to_select=19)"
      ]
     },
     "execution_count": 83,
     "metadata": {},
     "output_type": "execute_result"
    }
   ],
   "source": [
    "rfe.fit(X,y)"
   ]
  },
  {
   "cell_type": "markdown",
   "id": "b9f6edf0",
   "metadata": {},
   "source": [
    "# RUN ON TEST AND DOWNLOAD CSV"
   ]
  },
  {
   "cell_type": "code",
   "execution_count": 86,
   "id": "5287d35a",
   "metadata": {},
   "outputs": [
    {
     "name": "stdout",
     "output_type": "stream",
     "text": [
      "             ID  Overall_Experience\n",
      "0      99900001                   1\n",
      "1      99900002                   1\n",
      "2      99900003                   1\n",
      "3      99900004                   0\n",
      "4      99900005                   1\n",
      "...         ...                 ...\n",
      "35597  99935598                   0\n",
      "35598  99935599                   1\n",
      "35599  99935600                   1\n",
      "35600  99935601                   1\n",
      "35601  99935602                   0\n",
      "\n",
      "[35602 rows x 2 columns]\n"
     ]
    }
   ],
   "source": [
    "y_pred_test = rfe.predict(test_X)\n",
    "test['Overall_Experience'] = y_pred_test\n",
    "print(test[['ID','Overall_Experience']])\n",
    "test = test[['ID','Overall_Experience']]\n",
    "test.to_csv(r'C:\\Users\\VK\\Github\\MIT\\Hackathon\\Submit10.csv', index=False)"
   ]
  },
  {
   "cell_type": "markdown",
   "id": "28bd759f",
   "metadata": {},
   "source": [
    "#### Outcome on blind test data in time limited hackathon:\n",
    "0.9509859% accuracy#\n",
    "11th place\n",
    "\n",
    "Potential improvements:\n",
    "    use grid search on RFE n features\n",
    "    use multiple ML algorithms and use majority vote"
   ]
  },
  {
   "cell_type": "code",
   "execution_count": null,
   "id": "c34abf81",
   "metadata": {},
   "outputs": [],
   "source": []
  }
 ],
 "metadata": {
  "kernelspec": {
   "display_name": "Python 3 (ipykernel)",
   "language": "python",
   "name": "python3"
  },
  "language_info": {
   "codemirror_mode": {
    "name": "ipython",
    "version": 3
   },
   "file_extension": ".py",
   "mimetype": "text/x-python",
   "name": "python",
   "nbconvert_exporter": "python",
   "pygments_lexer": "ipython3",
   "version": "3.9.12"
  }
 },
 "nbformat": 4,
 "nbformat_minor": 5
}
